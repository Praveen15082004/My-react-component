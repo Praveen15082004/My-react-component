{
 "cells": [
  {
   "cell_type": "code",
   "execution_count": 4,
   "id": "6267f923-6d3d-40ea-aedd-1001e1893936",
   "metadata": {},
   "outputs": [],
   "source": [
    "# Importing the necessary libraries\n",
    "import pandas as pd\n",
    "import numpy as np\n",
    "from sklearn.model_selection import train_test_split\n",
    "from sklearn.preprocessing import StandardScaler, LabelEncoder\n",
    "from sklearn.metrics import accuracy_score, precision_score, recall_score\n"
   ]
  },
  {
   "cell_type": "code",
   "execution_count": 5,
   "id": "439a8940-a2b6-4d7a-9d4e-e36e34ff7190",
   "metadata": {},
   "outputs": [
    {
     "name": "stdout",
     "output_type": "stream",
     "text": [
      "<class 'pandas.core.frame.DataFrame'>\n",
      "RangeIndex: 10 entries, 0 to 9\n",
      "Data columns (total 6 columns):\n",
      " #   Column     Non-Null Count  Dtype  \n",
      "---  ------     --------------  -----  \n",
      " 0   Feature1   9 non-null      float64\n",
      " 1   Feature2   9 non-null      float64\n",
      " 2   Feature3   9 non-null      float64\n",
      " 3   Category1  10 non-null     object \n",
      " 4   Category2  10 non-null     object \n",
      " 5   Target     10 non-null     int64  \n",
      "dtypes: float64(3), int64(1), object(2)\n",
      "memory usage: 612.0+ bytes\n",
      "Data Info:\n",
      " None\n",
      "First few rows:\n",
      "    Feature1  Feature2  Feature3 Category1 Category2  Target\n",
      "0       1.5     300.0      10.1         A         X       0\n",
      "1       2.1     450.0      15.3         B         Y       1\n",
      "2       3.6     500.0      20.5         A         X       0\n",
      "3       1.2     200.0       8.9         B         Z       1\n",
      "4       2.5     350.0      11.4         C         Y       0\n",
      "Summary Statistics:\n",
      "        Feature1    Feature2   Feature3     Target\n",
      "count  9.000000    9.000000   9.000000  10.000000\n",
      "mean   2.277778  368.888889  12.977778   0.500000\n",
      "std    0.771002   93.333333   3.578679   0.527046\n",
      "min    1.200000  200.000000   8.900000   0.000000\n",
      "25%    1.800000  300.000000  10.100000   0.000000\n",
      "50%    2.100000  370.000000  12.700000   0.500000\n",
      "75%    2.700000  450.000000  14.600000   1.000000\n",
      "max    3.600000  500.000000  20.500000   1.000000\n"
     ]
    }
   ],
   "source": [
    "# Load the dataset\n",
    "# Assume the dataset is in CSV format\n",
    "data = pd.read_csv(\"dataset.csv\")\n",
    "\n",
    "# Step 1: Data Exploration\n",
    "print(\"Data Info:\\n\", data.info())\n",
    "print(\"First few rows:\\n\", data.head())\n",
    "print(\"Summary Statistics:\\n\", data.describe())\n"
   ]
  },
  {
   "cell_type": "code",
   "execution_count": 6,
   "id": "ef16f448-8656-4047-9e1b-04219c8e2011",
   "metadata": {},
   "outputs": [
    {
     "name": "stdout",
     "output_type": "stream",
     "text": [
      "Missing Values:\n",
      " Feature1     1\n",
      "Feature2     1\n",
      "Feature3     1\n",
      "Category1    0\n",
      "Category2    0\n",
      "Target       0\n",
      "dtype: int64\n"
     ]
    }
   ],
   "source": [
    "# Step 2: Handling Missing Values\n",
    "# Check for missing values\n",
    "missing_values = data.isnull().sum()\n",
    "print(\"Missing Values:\\n\", missing_values)\n",
    "\n",
    "# Filling missing numerical values with mean\n",
    "numerical_columns = data.select_dtypes(include=['float64', 'int64']).columns\n",
    "data[numerical_columns] = data[numerical_columns].fillna(data[numerical_columns].mean())\n",
    "\n",
    "# Filling missing categorical values with mode\n",
    "categorical_columns = data.select_dtypes(include=['object']).columns\n",
    "data[categorical_columns] = data[categorical_columns].fillna(data[categorical_columns].mode().iloc[0])\n"
   ]
  },
  {
   "cell_type": "code",
   "execution_count": 10,
   "id": "05ed95aa-c900-49f8-9aac-1278786395f1",
   "metadata": {},
   "outputs": [],
   "source": [
    "# Step 3: Encoding Categorical Variables\n",
    "# Convert categorical variables to numeric using Label Encoding or One-Hot Encoding\n",
    "for col in categorical_columns:\n",
    "    label_encoder = LabelEncoder()\n",
    "    data[col] = label_encoder.fit_transform(data[col])\n"
   ]
  },
  {
   "cell_type": "code",
   "execution_count": 12,
   "id": "9ea44354-e022-4abb-aa80-92e914364235",
   "metadata": {},
   "outputs": [],
   "source": [
    "# Step 4: Feature Scaling\n",
    "# Normalize the features to have zero mean and unit variance\n",
    "scaler = StandardScaler()\n",
    "data[numerical_columns] = scaler.fit_transform(data[numerical_columns])\n"
   ]
  },
  {
   "cell_type": "code",
   "execution_count": 14,
   "id": "58c866ad-95a3-480d-bc3d-0d20dc822e63",
   "metadata": {},
   "outputs": [],
   "source": [
    "# Step 5: Feature Engineering\n",
    "# Example: Creating new features based on existing ones\n",
    "data['Feature_Ratio'] = data['Feature1'] / (data['Feature2'] + 1)\n"
   ]
  },
  {
   "cell_type": "code",
   "execution_count": 16,
   "id": "cd1fa03d-b7e3-4c04-9c3f-b76c4edccd51",
   "metadata": {
    "scrolled": true
   },
   "outputs": [
    {
     "name": "stdout",
     "output_type": "stream",
     "text": [
      "Processed Training Data:\n",
      "    Feature1  Feature2  Feature3  Category1  Category2  Feature_Ratio\n",
      "8 -0.692828 -0.825216  0.506807          0          0      -3.963899\n",
      "1 -0.257796  0.971625  0.725498          1          1      -0.130753\n"
     ]
    }
   ],
   "source": [
    "# Step 6: Splitting the dataset into Training and Testing sets\n",
    "X = data.drop('Target', axis=1)  # Assuming 'Target' is the column to predict\n",
    "y = data['Target']\n",
    "\n",
    "X_train, X_test, y_train, y_test = train_test_split(X, y, test_size=0.2, random_state=42)\n",
    "\n",
    "# Output processed data\n",
    "print(\"Processed Training Data:\\n\", X_test.head())\n"
   ]
  },
  {
   "cell_type": "code",
   "execution_count": 18,
   "id": "e4becbb4-e8fa-4299-b4ab-f5f454f4ee91",
   "metadata": {},
   "outputs": [
    {
     "ename": "NameError",
     "evalue": "name 'model' is not defined",
     "output_type": "error",
     "traceback": [
      "\u001b[0;31m---------------------------------------------------------------------------\u001b[0m",
      "\u001b[0;31mNameError\u001b[0m                                 Traceback (most recent call last)",
      "Cell \u001b[0;32mIn[18], line 1\u001b[0m\n\u001b[0;32m----> 1\u001b[0m y_pred \u001b[38;5;241m=\u001b[39m model\u001b[38;5;241m.\u001b[39mpredict(X_test) \n\u001b[1;32m      2\u001b[0m accuracy \u001b[38;5;241m=\u001b[39m accuracy_score(ytest, y_pred) \n\u001b[1;32m      3\u001b[0m precision \u001b[38;5;241m=\u001b[39m precision_score(ytest, y_pred) \n",
      "\u001b[0;31mNameError\u001b[0m: name 'model' is not defined"
     ]
    }
   ],
   "source": [
    "y_pred = model.predict(X_test) \n",
    "accuracy = accuracy_score(ytest, y_pred) \n",
    "precision = precision_score(ytest, y_pred) \n",
    "recall = recall_score(ytest, y_pred)\n",
    "f1 = f1_score(ytest, y_pred)\n",
    "print(\"Accuracy:\", accuracy)\n",
    "print(\"Precision:\", precision) \n",
    "print(\"Recall:\", recall) \n",
    "print(\"F1 Score:\", f1)"
   ]
  },
  {
   "cell_type": "code",
   "execution_count": null,
   "id": "20c0ca07-9d34-45b4-bf46-fad7d34b1273",
   "metadata": {},
   "outputs": [],
   "source": []
  },
  {
   "cell_type": "code",
   "execution_count": null,
   "id": "cc391a1d-eddd-436b-9701-1923c73c7413",
   "metadata": {},
   "outputs": [],
   "source": []
  },
  {
   "cell_type": "code",
   "execution_count": null,
   "id": "cf70514f-8093-4671-9423-4caa667227ce",
   "metadata": {},
   "outputs": [],
   "source": []
  }
 ],
 "metadata": {
  "kernelspec": {
   "display_name": "Python 3 (ipykernel)",
   "language": "python",
   "name": "python3"
  },
  "language_info": {
   "codemirror_mode": {
    "name": "ipython",
    "version": 3
   },
   "file_extension": ".py",
   "mimetype": "text/x-python",
   "name": "python",
   "nbconvert_exporter": "python",
   "pygments_lexer": "ipython3",
   "version": "3.12.4"
  }
 },
 "nbformat": 4,
 "nbformat_minor": 5
}
