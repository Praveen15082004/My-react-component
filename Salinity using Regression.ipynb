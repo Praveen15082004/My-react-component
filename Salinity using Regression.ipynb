{
 "cells": [
  {
   "cell_type": "code",
   "execution_count": 48,
   "id": "753eac50-1118-48ff-ad98-52fd0cffbdab",
   "metadata": {},
   "outputs": [],
   "source": [
    "import numpy as np\n",
    "import pandas as pd\n",
    "import seaborn as sns\n",
    "import matplotlib.pyplot as plt \n",
    "from sklearn import preprocessing, svm\n",
    "from sklearn.model_selection import train_test_split \n",
    "from sklearn.linear_model import LinearRegression"
   ]
  },
  {
   "cell_type": "code",
   "execution_count": 50,
   "id": "30b7ecb7-0707-4a9c-abca-59aab0894a76",
   "metadata": {},
   "outputs": [
    {
     "name": "stdout",
     "output_type": "stream",
     "text": [
      "   Salinity  Water Temperature\n",
      "0        30               22.1\n",
      "1        31               21.8\n",
      "2        29               22.5\n",
      "3        33               20.9\n",
      "4        35               20.3\n",
      "5        32               21.4\n",
      "6        28               22.8\n",
      "7        34               20.6\n",
      "8        30               21.9\n",
      "9        31               21.5\n"
     ]
    }
   ],
   "source": [
    "df = pd.read_csv('salinity_water_temperature.csv')\n",
    "df_binary = df[['Salinity (ppt)', 'Water Temperature (°C)']]\n",
    "df_binary.columns = ['Salinity', 'Water Temperature']\n",
    "df_binary.head()\n",
    "df_binary.ffill(inplace=True)  # Forward fill missing values\n",
    "print(df_binary)"
   ]
  },
  {
   "cell_type": "code",
   "execution_count": 54,
   "id": "66a1eb72-bfbd-46bd-859b-92543bfb2fa9",
   "metadata": {},
   "outputs": [
    {
     "name": "stdout",
     "output_type": "stream",
     "text": [
      "[[30]\n",
      " [31]\n",
      " [29]\n",
      " [33]\n",
      " [35]\n",
      " [32]\n",
      " [28]\n",
      " [34]\n",
      " [30]\n",
      " [31]] [[22.1]\n",
      " [21.8]\n",
      " [22.5]\n",
      " [20.9]\n",
      " [20.3]\n",
      " [21.4]\n",
      " [22.8]\n",
      " [20.6]\n",
      " [21.9]\n",
      " [21.5]]\n"
     ]
    }
   ],
   "source": [
    "X = np.array(df_binary['Salinity']).reshape(-1, 1)\n",
    "y = np.array(df_binary['Water Temperature']).reshape(-1, 1)\n",
    "print(X,y)"
   ]
  },
  {
   "cell_type": "code",
   "execution_count": 58,
   "id": "b94a5cd1-3cc7-4eb7-801d-c4e63b08d54d",
   "metadata": {},
   "outputs": [
    {
     "name": "stdout",
     "output_type": "stream",
     "text": [
      "   Salinity  Water Temperature\n",
      "0        30               22.1\n",
      "1        31               21.8\n",
      "2        29               22.5\n",
      "3        33               20.9\n",
      "4        35               20.3\n",
      "5        32               21.4\n",
      "6        28               22.8\n",
      "7        34               20.6\n",
      "8        30               21.9\n",
      "9        31               21.5\n"
     ]
    }
   ],
   "source": [
    "df_binary.dropna(inplace = True)\n",
    "print(df_binary)"
   ]
  },
  {
   "cell_type": "code",
   "execution_count": 34,
   "id": "40790555-92bc-4113-8a06-292239d326f6",
   "metadata": {},
   "outputs": [],
   "source": [
    "X_train, X_test, y_train, y_test = train_test_split(X, y, test_size =\n",
    "0.25)\n"
   ]
  },
  {
   "cell_type": "code",
   "execution_count": 40,
   "id": "e7613059-dd0c-49dd-b6a1-c5af0e018748",
   "metadata": {},
   "outputs": [
    {
     "name": "stdout",
     "output_type": "stream",
     "text": [
      "0.9680410143682683\n",
      "   Salinity (ppt)  Water Temperature (°C)\n",
      "0              30                    22.1\n",
      "1              31                    21.8\n",
      "2              29                    22.5\n",
      "3              33                    20.9\n",
      "4              35                    20.3\n",
      "5              32                    21.4\n",
      "6              28                    22.8\n",
      "7              34                    20.6\n",
      "8              30                    21.9\n",
      "9              31                    21.5\n"
     ]
    }
   ],
   "source": [
    "regr = LinearRegression() \n",
    "regr.fit(X_train, y_train) \n",
    "print(regr.score(X_test, y_test)) \n",
    "print(df)\n"
   ]
  },
  {
   "cell_type": "code",
   "execution_count": 44,
   "id": "f80bee77-14e3-4f04-98d7-6f4130c729a1",
   "metadata": {},
   "outputs": [
    {
     "data": {
      "image/png": "[encoded data removed]",
      "text/plain": [
       "<Figure size 640x480 with 1 Axes>"
      ]
     },
     "metadata": {},
     "output_type": "display_data"
    }
   ],
   "source": [
    "y_pred = regr.predict(X_test) \n",
    "plt.scatter(X_test, y_test, color ='b') \n",
    "plt.plot(X_test, y_pred, color ='k')\n",
    "plt.show()\n"
   ]
  },
  {
   "cell_type": "code",
   "execution_count": null,
   "id": "1be0b02b-5009-4645-9929-ea75ddb5263b",
   "metadata": {},
   "outputs": [],
   "source": []
  }
 ],
 "metadata": {
  "kernelspec": {
   "display_name": "Python 3 (ipykernel)",
   "language": "python",
   "name": "python3"
  },
  "language_info": {
   "codemirror_mode": {
    "name": "ipython",
    "version": 3
   },
   "file_extension": ".py",
   "mimetype": "text/x-python",
   "name": "python",
   "nbconvert_exporter": "python",
   "pygments_lexer": "ipython3",
   "version": "3.12.4"
  }
 },
 "nbformat": 4,
 "nbformat_minor": 5
}
